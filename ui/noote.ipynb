{
 "cells": [
  {
   "cell_type": "markdown",
   "source": [
    "窗口位置和大小：setGeometry(300, 300, 300, 220) <br>\n",
    "***\n",
    "## QPushButton类\n",
    "**btn=QPushButton('quit',self)**\n",
    "\n",
    "## 按钮退出\n",
    "**btn.clicked.connect(QCoreApplication.instance().quit)**\n",
    "***\n",
    "## 确认退出"
   ],
   "metadata": {
    "collapsed": false,
    "pycharm": {
     "name": "#%% md\n"
    }
   }
  },
  {
   "cell_type": "code",
   "execution_count": null,
   "outputs": [],
   "source": [
    "from PyQt5.QtWidgets import QMessageBox    \n",
    "def closeEvent(self, QCloseEvent):\n",
    "        reply=QMessageBox.question(self,'Message',\"Are you  OK?\",QMessageBox.Yes|QMessageBox.No,QMessageBox.No)\n",
    "\n",
    "        if reply==QMessageBox.Yes:\n",
    "            QCloseEvent.accept()\n",
    "        else:\n",
    "            QCloseEvent.ignore()"
   ],
   "metadata": {
    "collapsed": false,
    "pycharm": {
     "name": "#%%\n"
    }
   }
  },
  {
   "cell_type": "markdown",
   "source": [
    "\n"
   ],
   "metadata": {
    "collapsed": false
   }
  }
 ],
 "metadata": {
  "kernelspec": {
   "display_name": "Python 3",
   "language": "python",
   "name": "python3"
  },
  "language_info": {
   "codemirror_mode": {
    "name": "ipython",
    "version": 2
   },
   "file_extension": ".py",
   "mimetype": "text/x-python",
   "name": "python",
   "nbconvert_exporter": "python",
   "pygments_lexer": "ipython2",
   "version": "2.7.6"
  },
  "pycharm": {
   "stem_cell": {
    "cell_type": "raw",
    "source": [],
    "metadata": {
     "collapsed": false
    }
   }
  }
 },
 "nbformat": 4,
 "nbformat_minor": 0
}